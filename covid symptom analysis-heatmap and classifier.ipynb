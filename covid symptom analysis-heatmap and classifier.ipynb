{
 "cells": [
  {
   "cell_type": "code",
   "execution_count": 15,
   "metadata": {},
   "outputs": [],
   "source": [
    "import pandas as pd\n",
    "import numpy as np\n",
    "import seaborn as sns\n",
    "dataset1=pd.read_csv(\"PAML_COVID_Dataset for classification.csv\")"
   ]
  },
  {
   "cell_type": "code",
   "execution_count": 72,
   "metadata": {},
   "outputs": [
    {
     "name": "stdout",
     "output_type": "stream",
     "text": [
      "<class 'pandas.core.frame.DataFrame'>\n",
      "RangeIndex: 3135 entries, 0 to 3134\n",
      "Data columns (total 6 columns):\n",
      " #   Column                Non-Null Count  Dtype \n",
      "---  ------                --------------  ----- \n",
      " 0   Age                   3135 non-null   int64 \n",
      " 1   Serious symptoms      3135 non-null   object\n",
      " 2   Less common symptoms  3135 non-null   object\n",
      " 3   Most common symptoms  3135 non-null   object\n",
      " 4   Severity              3135 non-null   object\n",
      " 5   Patient_Status        3135 non-null   object\n",
      "dtypes: int64(1), object(5)\n",
      "memory usage: 147.1+ KB\n"
     ]
    }
   ],
   "source": [
    "dataset1.info()"
   ]
  },
  {
   "cell_type": "code",
   "execution_count": 20,
   "metadata": {},
   "outputs": [],
   "source": [
    "col1=dataset1['Age ']\n",
    "col2=dataset1['Serious symptoms']\n",
    "col2=col2.replace(['difficulty breathing or shortness of breath','loss of speech or movement','chest pain or pressure'],[0,1,2])\n",
    "dataset2=pd.concat([col1, col2], axis=1)"
   ]
  },
  {
   "cell_type": "code",
   "execution_count": 29,
   "metadata": {},
   "outputs": [],
   "source": [
    "col3=dataset1['Most common symptoms']\n",
    "col3=col3.replace(['tiredness','dry cough','fever'],[0,1,2])\n",
    "dataset2=pd.concat([col1, col2,col3], axis=1)"
   ]
  },
  {
   "cell_type": "code",
   "execution_count": 32,
   "metadata": {},
   "outputs": [],
   "source": [
    "col4=dataset1['Less common symptoms']\n",
    "col4=col4.replace(['diarrhoea','sore throat','loss of taste or smell','headache','conjunctivitis','a rash on skin, or discolouration of fingers or toes','aches and pains'],[0,1,2,3,4,5,6])\n",
    "dataset2=pd.concat([col1, col2,col3,col4], axis=1)"
   ]
  },
  {
   "cell_type": "code",
   "execution_count": 39,
   "metadata": {},
   "outputs": [],
   "source": [
    "col5=dataset1['Severity']\n",
    "col5=col5.replace(['Seviour','Moderate','Mild'],[0,1,2])\n",
    "col6=dataset1['Patient_Status ']\n",
    "col6=col6.replace(['flu','Covid'],[0,1])\n",
    "\n",
    "dataset2=pd.concat([col1,col2,col3,col4,col5,col6], axis=1)"
   ]
  },
  {
   "cell_type": "code",
   "execution_count": 40,
   "metadata": {},
   "outputs": [],
   "source": [
    "cormat1=dataset2.corr()"
   ]
  },
  {
   "cell_type": "code",
   "execution_count": 41,
   "metadata": {},
   "outputs": [
    {
     "data": {
      "text/html": [
       "<div>\n",
       "<style scoped>\n",
       "    .dataframe tbody tr th:only-of-type {\n",
       "        vertical-align: middle;\n",
       "    }\n",
       "\n",
       "    .dataframe tbody tr th {\n",
       "        vertical-align: top;\n",
       "    }\n",
       "\n",
       "    .dataframe thead th {\n",
       "        text-align: right;\n",
       "    }\n",
       "</style>\n",
       "<table border=\"1\" class=\"dataframe\">\n",
       "  <thead>\n",
       "    <tr style=\"text-align: right;\">\n",
       "      <th></th>\n",
       "      <th>Age</th>\n",
       "      <th>Serious symptoms</th>\n",
       "      <th>Most common symptoms</th>\n",
       "      <th>Less common symptoms</th>\n",
       "      <th>Severity</th>\n",
       "      <th>Patient_Status</th>\n",
       "    </tr>\n",
       "  </thead>\n",
       "  <tbody>\n",
       "    <tr>\n",
       "      <th>Age</th>\n",
       "      <td>1.000000</td>\n",
       "      <td>0.032288</td>\n",
       "      <td>-0.026937</td>\n",
       "      <td>-0.003174</td>\n",
       "      <td>-0.026161</td>\n",
       "      <td>-0.024359</td>\n",
       "    </tr>\n",
       "    <tr>\n",
       "      <th>Serious symptoms</th>\n",
       "      <td>0.032288</td>\n",
       "      <td>1.000000</td>\n",
       "      <td>-0.001910</td>\n",
       "      <td>0.007901</td>\n",
       "      <td>0.001776</td>\n",
       "      <td>-0.030145</td>\n",
       "    </tr>\n",
       "    <tr>\n",
       "      <th>Most common symptoms</th>\n",
       "      <td>-0.026937</td>\n",
       "      <td>-0.001910</td>\n",
       "      <td>1.000000</td>\n",
       "      <td>0.031858</td>\n",
       "      <td>0.010255</td>\n",
       "      <td>0.037924</td>\n",
       "    </tr>\n",
       "    <tr>\n",
       "      <th>Less common symptoms</th>\n",
       "      <td>-0.003174</td>\n",
       "      <td>0.007901</td>\n",
       "      <td>0.031858</td>\n",
       "      <td>1.000000</td>\n",
       "      <td>-0.033692</td>\n",
       "      <td>0.015294</td>\n",
       "    </tr>\n",
       "    <tr>\n",
       "      <th>Severity</th>\n",
       "      <td>-0.026161</td>\n",
       "      <td>0.001776</td>\n",
       "      <td>0.010255</td>\n",
       "      <td>-0.033692</td>\n",
       "      <td>1.000000</td>\n",
       "      <td>-0.007143</td>\n",
       "    </tr>\n",
       "    <tr>\n",
       "      <th>Patient_Status</th>\n",
       "      <td>-0.024359</td>\n",
       "      <td>-0.030145</td>\n",
       "      <td>0.037924</td>\n",
       "      <td>0.015294</td>\n",
       "      <td>-0.007143</td>\n",
       "      <td>1.000000</td>\n",
       "    </tr>\n",
       "  </tbody>\n",
       "</table>\n",
       "</div>"
      ],
      "text/plain": [
       "                          Age   Serious symptoms  Most common symptoms  \\\n",
       "Age                   1.000000          0.032288             -0.026937   \n",
       "Serious symptoms      0.032288          1.000000             -0.001910   \n",
       "Most common symptoms -0.026937         -0.001910              1.000000   \n",
       "Less common symptoms -0.003174          0.007901              0.031858   \n",
       "Severity             -0.026161          0.001776              0.010255   \n",
       "Patient_Status       -0.024359         -0.030145              0.037924   \n",
       "\n",
       "                      Less common symptoms  Severity  Patient_Status   \n",
       "Age                              -0.003174 -0.026161        -0.024359  \n",
       "Serious symptoms                  0.007901  0.001776        -0.030145  \n",
       "Most common symptoms              0.031858  0.010255         0.037924  \n",
       "Less common symptoms              1.000000 -0.033692         0.015294  \n",
       "Severity                         -0.033692  1.000000        -0.007143  \n",
       "Patient_Status                    0.015294 -0.007143         1.000000  "
      ]
     },
     "execution_count": 41,
     "metadata": {},
     "output_type": "execute_result"
    }
   ],
   "source": [
    "cormat1"
   ]
  },
  {
   "cell_type": "code",
   "execution_count": 45,
   "metadata": {},
   "outputs": [
    {
     "data": {
      "image/png": "[encoded data removed]",
      "text/plain": [
       "<Figure size 432x288 with 2 Axes>"
      ]
     },
     "metadata": {
      "needs_background": "light"
     },
     "output_type": "display_data"
    }
   ],
   "source": [
    "myheatmap=sns.heatmap(cormat1, cmap= 'coolwarm', linecolor='white')"
   ]
  },
  {
   "cell_type": "code",
   "execution_count": 46,
   "metadata": {},
   "outputs": [],
   "source": [
    "figure=myheatmap.get_figure()"
   ]
  },
  {
   "cell_type": "code",
   "execution_count": 47,
   "metadata": {},
   "outputs": [],
   "source": [
    "figure.savefig('myheatmap.png', dpi=400)"
   ]
  },
  {
   "cell_type": "markdown",
   "metadata": {},
   "source": [
    "## Classifier"
   ]
  },
  {
   "cell_type": "code",
   "execution_count": 65,
   "metadata": {},
   "outputs": [],
   "source": [
    "xx1=dataset2[['Age ','Serious symptoms', 'Less common symptoms', 'Most common symptoms', 'Severity']]"
   ]
  },
  {
   "cell_type": "code",
   "execution_count": 66,
   "metadata": {},
   "outputs": [],
   "source": [
    "import numpy as geek\n",
    "yy1=dataclass1[['Patient_Status ']]\n",
    "yy1=yy1.to_numpy()\n",
    "yy1=yy1.ravel()"
   ]
  },
  {
   "cell_type": "code",
   "execution_count": 67,
   "metadata": {},
   "outputs": [],
   "source": [
    "from sklearn.model_selection import train_test_split\n",
    "X_train, X_test, y_train, y_test = train_test_split(xx1, yy1, random_state = 109) "
   ]
  },
  {
   "cell_type": "code",
   "execution_count": 68,
   "metadata": {},
   "outputs": [],
   "source": [
    "from sklearn import svm\n",
    "\n",
    "#a svm Classifier\n",
    "clf = svm.SVC(kernel='poly') # Linear Kernel\n",
    "\n",
    "#Train the model using the training sets\n",
    "clf.fit(X_train, y_train)\n",
    "\n",
    "#Prediction of the response for test dataset\n",
    "y_pred = clf.predict(X_test)"
   ]
  },
  {
   "cell_type": "code",
   "execution_count": 69,
   "metadata": {},
   "outputs": [
    {
     "name": "stdout",
     "output_type": "stream",
     "text": [
      "Accuracy: 0.4987244897959184\n"
     ]
    }
   ],
   "source": [
    "from sklearn import metrics\n",
    "print(\"Accuracy:\",metrics.accuracy_score(y_test, y_pred))"
   ]
  },
  {
   "cell_type": "code",
   "execution_count": 70,
   "metadata": {},
   "outputs": [],
   "source": [
    "# Decision Tree\n",
    "from sklearn.tree import DecisionTreeClassifier\n",
    "from sklearn.metrics import confusion_matrix \n",
    "\n",
    "dtree_model = DecisionTreeClassifier(max_depth = 2).fit(X_train, y_train) \n",
    "dtree_predictions = dtree_model.predict(X_test) \n",
    "\n",
    "# creating a confusion matrix \n",
    "cm = confusion_matrix(y_test, dtree_predictions) "
   ]
  },
  {
   "cell_type": "code",
   "execution_count": 71,
   "metadata": {},
   "outputs": [
    {
     "name": "stdout",
     "output_type": "stream",
     "text": [
      "Accuracy= 0.5304125903870693\n"
     ]
    }
   ],
   "source": [
    "print('Accuracy= {}'.format(dtree_model.score(X_train,y_train)))"
   ]
  },
  {
   "cell_type": "code",
   "execution_count": null,
   "metadata": {},
   "outputs": [],
   "source": []
  }
 ],
 "metadata": {
  "kernelspec": {
   "display_name": "Python 3",
   "language": "python",
   "name": "python3"
  },
  "language_info": {
   "codemirror_mode": {
    "name": "ipython",
    "version": 3
   },
   "file_extension": ".py",
   "mimetype": "text/x-python",
   "name": "python",
   "nbconvert_exporter": "python",
   "pygments_lexer": "ipython3",
   "version": "3.7.6"
  }
 },
 "nbformat": 4,
 "nbformat_minor": 4
}
